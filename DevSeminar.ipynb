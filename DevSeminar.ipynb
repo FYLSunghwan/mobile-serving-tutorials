{
  "nbformat": 4,
  "nbformat_minor": 0,
  "metadata": {
    "colab": {
      "name": "DevSeminar.ipynb",
      "provenance": [],
      "collapsed_sections": [],
      "authorship_tag": "ABX9TyO5ct49mCSXR5dyVsi9l+I8",
      "include_colab_link": true
    },
    "kernelspec": {
      "name": "python3",
      "display_name": "Python 3"
    },
    "language_info": {
      "name": "python"
    },
    "accelerator": "GPU"
  },
  "cells": [
    {
      "cell_type": "markdown",
      "metadata": {
        "id": "view-in-github",
        "colab_type": "text"
      },
      "source": [
        "<a href=\"https://colab.research.google.com/github/FYLSunghwan/mobile-serving-tutorials/blob/main/DevSeminar.ipynb\" target=\"_parent\"><img src=\"https://colab.research.google.com/assets/colab-badge.svg\" alt=\"Open In Colab\"/></a>"
      ]
    },
    {
      "cell_type": "markdown",
      "metadata": {
        "id": "SOY-UlLNnWGg"
      },
      "source": [
        "# Building Basic Models\n",
        "\n",
        "PyTorch, 또는 TensorFlow는 복잡한 연산을 수행하도록 도와주는 Framework입니다. Python을 통해 연산 그래프를 정의한 뒤, 해당 연산 그래프, 다른 말로 모델을 CPU, GPU, 또는 TPU와 같은 다른 특수한 프로세서에서 가속받을 수 있도록 도와줍니다."
      ]
    },
    {
      "cell_type": "markdown",
      "metadata": {
        "id": "Q6rZphb4vEYC"
      },
      "source": [
        "## Building Model with simple Adder and Multiplier\n",
        "\n",
        "PyTorch의 모델은 `nn.Module`을 상속하는 Class를 만들어서 생성할 수 있습니다. `nn.Module` Class는 `__init__()`과 `forward()`함수가 있습니다. `__init__()`, 즉 생성자에서는 모델이 생성되었을 때 모델의 연산에 필요한 연산자들(모듈)을 정의합니다. `forward()`에서는 Model이 불렸을 때의 연산 그래프를 정의합니다.\n",
        "\n",
        "PyTorch의 모델은 Nested Model을 지원합니다. 이 말은, 복잡한 모델도 간단한 모델을 Component로 만들어서 모델을 Abstraction한 후, 이를 Primitive로 새로운 모델을 구성할 수 있음을 의미합니다. 전자공학부의 회로설계처럼 간단한 논리 Gate들을 통해 복잡한 회로를 구성한 뒤, 이를 다른 회로의 부품으로 사용하는 원리와 비슷합니다.\n",
        "\n",
        "자, 그러면 직접 코드를 통해서 모델을 구현해보겠습니다."
      ]
    },
    {
      "cell_type": "markdown",
      "metadata": {
        "id": "i04yRunCqJ3t"
      },
      "source": [
        "### 필요한 라이브러리 import"
      ]
    },
    {
      "cell_type": "code",
      "metadata": {
        "id": "_OwdJQQSqQCN"
      },
      "source": [
        "import torch\n",
        "import torch.nn as nn"
      ],
      "execution_count": 2,
      "outputs": []
    },
    {
      "cell_type": "markdown",
      "metadata": {
        "id": "qDbnTAIaqV8H"
      },
      "source": [
        "### 연산 정의\n",
        "\n",
        "다음과 같은 연산을 정의해보겠습니다.\n",
        "$$(5x + 3) \\times (2x - 10)$$"
      ]
    },
    {
      "cell_type": "code",
      "metadata": {
        "id": "8PQqfg7HqTPg"
      },
      "source": [
        "class SimpleAdderMult(nn.Module):\n",
        "  \n",
        "  # 아래 코드는 생성자로, 모델이 생성되었을 때의 연산자들을 정의하게 됩니다.\n",
        "  # 지금 모델에서는 따로 Nested Model로 다른 연산자를 불러오는 것이 아니기때문에 아무 내용도 적지 않겠습니다.\n",
        "  def __init__(self):\n",
        "    super().__init__()\n",
        "\n",
        "  # 아래 코드는 forward함수로, 연산그래프를 정의하게 됩니다.\n",
        "  # 우선은 앞서 정의했던 연산식을 구현해보도록 하겠습니다.\n",
        "  def forward(self, x):\n",
        "    lhs = 5 * x + 3\n",
        "    rhs = 2 * x - 10\n",
        "\n",
        "    return lhs * rhs"
      ],
      "execution_count": 3,
      "outputs": []
    },
    {
      "cell_type": "markdown",
      "metadata": {
        "id": "o68ln2-bsMPm"
      },
      "source": [
        "### Model Inference\n",
        "\n",
        "이제, 방금 만들었던 모델을 가지고 추론을 진행해보겠습니다. 모델은 파이썬의 클래스처럼 인스턴스를 만들어주시면 되고, Inference를 할때는 그 모델에 대해서 Function Call을 진행해주시면 됩니다. 모델에 값을 넘길때는 간단한 Scalar값을 넘길수도 있고, torch에서 정의된 Tensor의 형태로 전달할 수 있습니다. Tensor는 Multi-Dimensional Array라고 생각해주시면 될 것 같습니다. (1차원 Tensor는 Vector, 2차원 Tensor는 Matrix, 등등..)"
      ]
    },
    {
      "cell_type": "code",
      "metadata": {
        "colab": {
          "base_uri": "https://localhost:8080/"
        },
        "id": "cjpR59wLsKWq",
        "outputId": "0708d27c-607a-4a1d-edfe-e6f9fd5b6993"
      },
      "source": [
        "model = SimpleAdderMult()\n",
        "print(model(3))\n",
        "print(model(torch.Tensor([3, 4, 5])))"
      ],
      "execution_count": 4,
      "outputs": [
        {
          "output_type": "stream",
          "text": [
            "-72\n",
            "tensor([-72., -46.,   0.])\n"
          ],
          "name": "stdout"
        }
      ]
    },
    {
      "cell_type": "markdown",
      "metadata": {
        "id": "rg6MsFodtl_d"
      },
      "source": [
        "### Model Save and Load\n",
        "\n",
        "모델을 만들었으면, 저장하고 불러올 수 있어야 합니다. torch에서는 모델을 저장하고 불러올 수 있는 API를 제공합니다."
      ]
    },
    {
      "cell_type": "code",
      "metadata": {
        "id": "91lroreEs2Hy"
      },
      "source": [
        "torch.save(model, \"model.pt\")\n",
        "loaded_model = torch.load(\"model.pt\")"
      ],
      "execution_count": 5,
      "outputs": []
    },
    {
      "cell_type": "code",
      "metadata": {
        "colab": {
          "base_uri": "https://localhost:8080/"
        },
        "id": "sdTS-Ha5uElH",
        "outputId": "90f65eb5-ab2c-48f1-9817-95f5443c39d2"
      },
      "source": [
        "loaded_model(3)"
      ],
      "execution_count": 6,
      "outputs": [
        {
          "output_type": "execute_result",
          "data": {
            "text/plain": [
              "-72"
            ]
          },
          "metadata": {
            "tags": []
          },
          "execution_count": 6
        }
      ]
    },
    {
      "cell_type": "code",
      "metadata": {
        "id": "Cozyu8qBlBsm"
      },
      "source": [
        ""
      ],
      "execution_count": 6,
      "outputs": []
    },
    {
      "cell_type": "code",
      "metadata": {
        "colab": {
          "base_uri": "https://localhost:8080/"
        },
        "id": "dIw1VXjjlGz6",
        "outputId": "2cfb4173-2682-4f67-8de6-229e3c51318b"
      },
      "source": [
        "import torch.utils.mobile_optimizer as mobile_optimizer\n",
        "\n",
        "scripted_model = torch.jit.script(model)\n",
        "opt_model = mobile_optimizer.optimize_for_mobile(scripted_model)\n",
        "opt_model.save(\"torch_model.pt\")\n",
        "print('done')"
      ],
      "execution_count": 7,
      "outputs": [
        {
          "output_type": "stream",
          "text": [
            "done\n"
          ],
          "name": "stdout"
        }
      ]
    },
    {
      "cell_type": "markdown",
      "metadata": {
        "id": "6hcH4Y8vu83w"
      },
      "source": [
        "## Building Model with Trainable Variables\n",
        "\n",
        "지금까지 PyTorch의 모델을 간단한 연산그래프를 통해서 만들어보았습니다. 하지만, 딥러닝이 유용한 이유는 이렇게 만든 모델이 Fixed Parameter가 아니라, Trainable Parameter를 통해서 실제 데이터를 학습할 수 있기 때문입니다."
      ]
    },
    {
      "cell_type": "markdown",
      "metadata": {
        "id": "74eOwvLYwsCl"
      },
      "source": [
        "### Making Trainable Variables"
      ]
    },
    {
      "cell_type": "code",
      "metadata": {
        "id": "VGEjOUmzwqKQ"
      },
      "source": [
        "class TrainableModel(nn.Module):\n",
        "  \n",
        "  # torch.Tensor를 통해 Trainable Tensor를 만들어보겠습니다.\n",
        "  def __init__(self):\n",
        "    super().__init__()\n",
        "    self.w = nn.Parameter(torch.zeros(1))\n",
        "    self.b = nn.Parameter(torch.zeros(1))\n",
        "\n",
        "  # y = wx + b라는 모델을 만들어보겠습니다.\n",
        "  # w와 b는 Trainable Parameter가 됩니다.\n",
        "  def forward(self, x):\n",
        "    return self.w * x + self.b"
      ],
      "execution_count": 8,
      "outputs": []
    },
    {
      "cell_type": "code",
      "metadata": {
        "colab": {
          "base_uri": "https://localhost:8080/"
        },
        "id": "p40zsSwgzpVf",
        "outputId": "2de26f11-d67d-4c6d-c6ca-32fe7d38bd35"
      },
      "source": [
        "model = TrainableModel()\n",
        "model(10)"
      ],
      "execution_count": 9,
      "outputs": [
        {
          "output_type": "execute_result",
          "data": {
            "text/plain": [
              "tensor([0.], grad_fn=<AddBackward0>)"
            ]
          },
          "metadata": {
            "tags": []
          },
          "execution_count": 9
        }
      ]
    },
    {
      "cell_type": "markdown",
      "metadata": {
        "id": "f-V-PErz0Axu"
      },
      "source": [
        "### Train Model\n",
        "\n",
        "방금 만들었던 모델을 직접 학습시켜보겠습니다.  \n",
        "Watch a model Train:  \n",
        "![j586af7nxvu41.jpg](data:image/jpeg;base64,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)"
      ]
    },
    {
      "cell_type": "code",
      "metadata": {
        "colab": {
          "base_uri": "https://localhost:8080/"
        },
        "id": "UlRyoZ__0RIc",
        "outputId": "b4487078-e2a9-4343-9830-a7a16cd516c8"
      },
      "source": [
        "# 모델을 정의합니다.\n",
        "model = TrainableModel()\n",
        "\n",
        "# 어떤 알고리즘으로 Model Parameter를 Optimize시킬건지를 결정하게 됩니다.\n",
        "optimizer = torch.optim.SGD(model.parameters(), lr = 0.001)\n",
        "\n",
        "# Loss Function으로 Model의 학습 방향을 결정하게 됩니다.\n",
        "criterion = nn.MSELoss()\n",
        "\n",
        "# 3x + 5를 학습해보겠습니다.\n",
        "X = torch.Tensor([[0], [1], [2]])\n",
        "Y = torch.Tensor([[5], [8], [11]])\n",
        "\n",
        "epochs = 10000\n",
        "losses = []\n",
        "for i in range(epochs):\n",
        "  # Optimizer를 초기화시킵니다.\n",
        "  # Pytorch에서 AutoGrad는 Gradient를 계속 저장하게 되는데, 이를 비워주어야 합니다.\n",
        "  optimizer.zero_grad()\n",
        "\n",
        "  # 모델을 가지고 값을 추론합니다.\n",
        "  y_inferenced = model(X)\n",
        "\n",
        "  # Loss Function을 통해 실제 값과 얼마나 차이가 있는지 계산합니다.\n",
        "  loss = criterion(y_inferenced, Y)\n",
        "\n",
        "  # Back Propagation\n",
        "  loss.backward()\n",
        "\n",
        "  # Optimizer를 동작시켜 Model의 Parameter를 업데이트합니다.\n",
        "  optimizer.step()\n",
        "\n",
        "  if i%100 == 0:\n",
        "    print(\"Epoch {} : Loss {}\".format(i, loss.item()))\n",
        "  losses.append(loss.item())"
      ],
      "execution_count": 10,
      "outputs": [
        {
          "output_type": "stream",
          "text": [
            "Epoch 0 : Loss 70.0\n",
            "Epoch 100 : Loss 27.631338119506836\n",
            "Epoch 200 : Loss 11.284296989440918\n",
            "Epoch 300 : Loss 4.936543941497803\n",
            "Epoch 400 : Loss 2.435511350631714\n",
            "Epoch 500 : Loss 1.418150544166565\n",
            "Epoch 600 : Loss 0.9764759540557861\n",
            "Epoch 700 : Loss 0.7612321972846985\n",
            "Epoch 800 : Loss 0.6377518177032471\n",
            "Epoch 900 : Loss 0.5538214445114136\n",
            "Epoch 1000 : Loss 0.4889357388019562\n",
            "Epoch 1100 : Loss 0.43481507897377014\n",
            "Epoch 1200 : Loss 0.3879149258136749\n",
            "Epoch 1300 : Loss 0.34654977917671204\n",
            "Epoch 1400 : Loss 0.30977746844291687\n",
            "Epoch 1500 : Loss 0.2769773602485657\n",
            "Epoch 1600 : Loss 0.24767720699310303\n",
            "Epoch 1700 : Loss 0.2214869260787964\n",
            "Epoch 1800 : Loss 0.19806896150112152\n",
            "Epoch 1900 : Loss 0.17712964117527008\n",
            "Epoch 2000 : Loss 0.15840454399585724\n",
            "Epoch 2100 : Loss 0.14165915548801422\n",
            "Epoch 2200 : Loss 0.1266840100288391\n",
            "Epoch 2300 : Loss 0.11329200863838196\n",
            "Epoch 2400 : Loss 0.10131528973579407\n",
            "Epoch 2500 : Loss 0.0906049981713295\n",
            "Epoch 2600 : Loss 0.08102700859308243\n",
            "Epoch 2700 : Loss 0.07246124744415283\n",
            "Epoch 2800 : Loss 0.0648011863231659\n",
            "Epoch 2900 : Loss 0.05795130133628845\n",
            "Epoch 3000 : Loss 0.05182508006691933\n",
            "Epoch 3100 : Loss 0.04634648934006691\n",
            "Epoch 3200 : Loss 0.041447121649980545\n",
            "Epoch 3300 : Loss 0.03706556186079979\n",
            "Epoch 3400 : Loss 0.03314727544784546\n",
            "Epoch 3500 : Loss 0.029643168672919273\n",
            "Epoch 3600 : Loss 0.026509320363402367\n",
            "Epoch 3700 : Loss 0.023706967011094093\n",
            "Epoch 3800 : Loss 0.021200835704803467\n",
            "Epoch 3900 : Loss 0.018959717825055122\n",
            "Epoch 4000 : Loss 0.016955489292740822\n",
            "Epoch 4100 : Loss 0.015163064002990723\n",
            "Epoch 4200 : Loss 0.013560169376432896\n",
            "Epoch 4300 : Loss 0.01212672982364893\n",
            "Epoch 4400 : Loss 0.010844825766980648\n",
            "Epoch 4500 : Loss 0.009698409587144852\n",
            "Epoch 4600 : Loss 0.008673177100718021\n",
            "Epoch 4700 : Loss 0.007756351958960295\n",
            "Epoch 4800 : Loss 0.006936435122042894\n",
            "Epoch 4900 : Loss 0.006203172728419304\n",
            "Epoch 5000 : Loss 0.0055474587716162205\n",
            "Epoch 5100 : Loss 0.004961004015058279\n",
            "Epoch 5200 : Loss 0.004436544608324766\n",
            "Epoch 5300 : Loss 0.003967551048845053\n",
            "Epoch 5400 : Loss 0.0035481636878103018\n",
            "Epoch 5500 : Loss 0.003173067234456539\n",
            "Epoch 5600 : Loss 0.002837665379047394\n",
            "Epoch 5700 : Loss 0.0025376377161592245\n",
            "Epoch 5800 : Loss 0.002269405173137784\n",
            "Epoch 5900 : Loss 0.002029535360634327\n",
            "Epoch 6000 : Loss 0.001814939663745463\n",
            "Epoch 6100 : Loss 0.0016230875626206398\n",
            "Epoch 6200 : Loss 0.0014514941722154617\n",
            "Epoch 6300 : Loss 0.00129809626378119\n",
            "Epoch 6400 : Loss 0.0011608661152422428\n",
            "Epoch 6500 : Loss 0.001038168091326952\n",
            "Epoch 6600 : Loss 0.0009284301777370274\n",
            "Epoch 6700 : Loss 0.0008302796632051468\n",
            "Epoch 6800 : Loss 0.0007425170042552054\n",
            "Epoch 6900 : Loss 0.0006640232168138027\n",
            "Epoch 7000 : Loss 0.0005938571994192898\n",
            "Epoch 7100 : Loss 0.0005310556734912097\n",
            "Epoch 7200 : Loss 0.0004749471554532647\n",
            "Epoch 7300 : Loss 0.00042475468944758177\n",
            "Epoch 7400 : Loss 0.00037986660026945174\n",
            "Epoch 7500 : Loss 0.0003397205437067896\n",
            "Epoch 7600 : Loss 0.000303796143271029\n",
            "Epoch 7700 : Loss 0.00027169170789420605\n",
            "Epoch 7800 : Loss 0.00024299812503159046\n",
            "Epoch 7900 : Loss 0.00021727889543399215\n",
            "Epoch 8000 : Loss 0.00019436651200521737\n",
            "Epoch 8100 : Loss 0.00017380712961312383\n",
            "Epoch 8200 : Loss 0.0001554245682200417\n",
            "Epoch 8300 : Loss 0.00013902269711252302\n",
            "Epoch 8400 : Loss 0.0001243540900759399\n",
            "Epoch 8500 : Loss 0.00011121153511339799\n",
            "Epoch 8600 : Loss 9.946877253241837e-05\n",
            "Epoch 8700 : Loss 8.896334475139156e-05\n",
            "Epoch 8800 : Loss 7.957543130032718e-05\n",
            "Epoch 8900 : Loss 7.11664033588022e-05\n",
            "Epoch 9000 : Loss 6.363807915477082e-05\n",
            "Epoch 9100 : Loss 5.6892866268754005e-05\n",
            "Epoch 9200 : Loss 5.091276761959307e-05\n",
            "Epoch 9300 : Loss 4.55443405371625e-05\n",
            "Epoch 9400 : Loss 4.070009526913054e-05\n",
            "Epoch 9500 : Loss 3.6438512324821204e-05\n",
            "Epoch 9600 : Loss 3.259914956288412e-05\n",
            "Epoch 9700 : Loss 2.9159540645196103e-05\n",
            "Epoch 9800 : Loss 2.609882540127728e-05\n",
            "Epoch 9900 : Loss 2.3318221792578697e-05\n"
          ],
          "name": "stdout"
        }
      ]
    },
    {
      "cell_type": "markdown",
      "metadata": {
        "id": "rcBebRVH3C25"
      },
      "source": [
        "### Model Inference"
      ]
    },
    {
      "cell_type": "code",
      "metadata": {
        "colab": {
          "base_uri": "https://localhost:8080/"
        },
        "id": "MfwWzXg-2Aw7",
        "outputId": "28666e08-8cff-4d68-b03d-6ce9ab657667"
      },
      "source": [
        "model(3)\n",
        "# 3 * 3 + 5"
      ],
      "execution_count": 11,
      "outputs": [
        {
          "output_type": "execute_result",
          "data": {
            "text/plain": [
              "tensor([14.0082], grad_fn=<AddBackward0>)"
            ]
          },
          "metadata": {
            "tags": []
          },
          "execution_count": 11
        }
      ]
    },
    {
      "cell_type": "markdown",
      "metadata": {
        "id": "iPiSkwaR3F5O"
      },
      "source": [
        "### Model Train Result Graph (Loss Graph)"
      ]
    },
    {
      "cell_type": "code",
      "metadata": {
        "colab": {
          "base_uri": "https://localhost:8080/",
          "height": 282
        },
        "id": "pdjhLQwk2uLB",
        "outputId": "7341ff27-dfc8-408f-8300-78682747d33b"
      },
      "source": [
        "import matplotlib.pyplot as plt\n",
        "\n",
        "plt.plot(losses)"
      ],
      "execution_count": 12,
      "outputs": [
        {
          "output_type": "execute_result",
          "data": {
            "text/plain": [
              "[<matplotlib.lines.Line2D at 0x7fcb0b238950>]"
            ]
          },
          "metadata": {
            "tags": []
          },
          "execution_count": 12
        },
        {
          "output_type": "display_data",
          "data": {
            "image/png": "[encoded data removed]",
            "text/plain": [
              "<Figure size 432x288 with 1 Axes>"
            ]
          },
          "metadata": {
            "tags": [],
            "needs_background": "light"
          }
        }
      ]
    },
    {
      "cell_type": "markdown",
      "metadata": {
        "id": "jYqkjpzR3yEc"
      },
      "source": [
        "### Save Model"
      ]
    },
    {
      "cell_type": "code",
      "metadata": {
        "id": "ACvbxKiJ3xA9",
        "colab": {
          "base_uri": "https://localhost:8080/"
        },
        "outputId": "08fe743e-4244-49ce-96a4-15b139ece125"
      },
      "source": [
        "torch.save(model, \"simple_model.pt\")\n",
        "import torch.utils.mobile_optimizer as mobile_optimizer\n",
        "\n",
        "scripted_model = torch.jit.script(model)\n",
        "opt_model = mobile_optimizer.optimize_for_mobile(scripted_model)\n",
        "opt_model.save(\"torch_model.pt\")\n",
        "print('done')"
      ],
      "execution_count": 13,
      "outputs": [
        {
          "output_type": "stream",
          "text": [
            "done\n"
          ],
          "name": "stdout"
        }
      ]
    },
    {
      "cell_type": "markdown",
      "metadata": {
        "id": "3k1ry5m84OYT"
      },
      "source": [
        "# Convert Model to ONNX and TensorFlow Lite\n",
        "\n",
        "이렇게 만들어진 Python모델은 Python을 지원하는 PC라면 어디에서든 Inference를 진행할 수 있습니다. 하지만, 오늘 하고자하는 것은 다양한 플랫폼에서 동작할 수 있는 Inference 코드를 작성하는 것입니다. 이를 위해서 C++ API를 사용하게 되는데, Pytorch말고 연산량에 대해 더욱 최적화가 잘 되어있는 TensorFlow Lite로의 변환을 진행해보려 합니다."
      ]
    },
    {
      "cell_type": "markdown",
      "metadata": {
        "id": "zofT_4Wl5rzy"
      },
      "source": [
        "### Convert to ONNX"
      ]
    },
    {
      "cell_type": "code",
      "metadata": {
        "id": "NbWawB7F4Ucm"
      },
      "source": [
        "# 모델 변환\n",
        "model = torch.load(\"simple_model.pt\")\n",
        "input_tensor = torch.Tensor([0])\n",
        "\n",
        "torch.onnx.export(model,                     # 실행될 모델\n",
        "                  input_tensor,                 # 모델 입력값 (튜플 또는 여러 입력값들도 가능)\n",
        "                  \"simple_model.onnx\",         # 모델 저장 경로 (파일 또는 파일과 유사한 객체 모두 가능)\n",
        "                  export_params=True,        # 모델 파일 안에 학습된 모델 가중치를 저장할지의 여부\n",
        "                  opset_version=10,          # 모델을 변환할 때 사용할 ONNX 버전\n",
        "                  do_constant_folding=True,  # 최적하시 상수폴딩을 사용할지의 여부\n",
        "                  input_names = ['input'],   # 모델의 입력값을 가리키는 이름\n",
        "                  output_names = ['output']) # 모델의 출력값을 가리키는 이름"
      ],
      "execution_count": 14,
      "outputs": []
    },
    {
      "cell_type": "markdown",
      "metadata": {
        "id": "mAoYwHLjLiD0"
      },
      "source": [
        "### Convert to TensorFlow"
      ]
    },
    {
      "cell_type": "code",
      "metadata": {
        "colab": {
          "base_uri": "https://localhost:8080/"
        },
        "id": "YrKbQhsGL8tG",
        "outputId": "3ad0f5cf-c267-4025-91af-38f2e91dc0d3"
      },
      "source": [
        "!pip install onnx_tf"
      ],
      "execution_count": 15,
      "outputs": [
        {
          "output_type": "stream",
          "text": [
            "Collecting onnx_tf\n",
            "\u001b[?25l  Downloading https://files.pythonhosted.org/packages/ac/24/68207818c961d078cb41bbcd149ee8627684911b2bc8f2acd0ae17689da2/onnx_tf-1.8.0-py3-none-any.whl (219kB)\n",
            "\r\u001b[K     |█▌                              | 10kB 25.0MB/s eta 0:00:01\r\u001b[K     |███                             | 20kB 29.7MB/s eta 0:00:01\r\u001b[K     |████▌                           | 30kB 31.4MB/s eta 0:00:01\r\u001b[K     |██████                          | 40kB 33.5MB/s eta 0:00:01\r\u001b[K     |███████▌                        | 51kB 34.7MB/s eta 0:00:01\r\u001b[K     |█████████                       | 61kB 35.5MB/s eta 0:00:01\r\u001b[K     |██████████▌                     | 71kB 35.2MB/s eta 0:00:01\r\u001b[K     |████████████                    | 81kB 33.7MB/s eta 0:00:01\r\u001b[K     |█████████████▍                  | 92kB 33.9MB/s eta 0:00:01\r\u001b[K     |███████████████                 | 102kB 34.3MB/s eta 0:00:01\r\u001b[K     |████████████████▍               | 112kB 34.3MB/s eta 0:00:01\r\u001b[K     |██████████████████              | 122kB 34.3MB/s eta 0:00:01\r\u001b[K     |███████████████████▍            | 133kB 34.3MB/s eta 0:00:01\r\u001b[K     |█████████████████████           | 143kB 34.3MB/s eta 0:00:01\r\u001b[K     |██████████████████████▍         | 153kB 34.3MB/s eta 0:00:01\r\u001b[K     |████████████████████████        | 163kB 34.3MB/s eta 0:00:01\r\u001b[K     |█████████████████████████▍      | 174kB 34.3MB/s eta 0:00:01\r\u001b[K     |██████████████████████████▉     | 184kB 34.3MB/s eta 0:00:01\r\u001b[K     |████████████████████████████▍   | 194kB 34.3MB/s eta 0:00:01\r\u001b[K     |█████████████████████████████▉  | 204kB 34.3MB/s eta 0:00:01\r\u001b[K     |███████████████████████████████▍| 215kB 34.3MB/s eta 0:00:01\r\u001b[K     |████████████████████████████████| 225kB 34.3MB/s \n",
            "\u001b[?25hRequirement already satisfied: PyYAML in /usr/local/lib/python3.7/dist-packages (from onnx_tf) (3.13)\n",
            "Collecting onnx>=1.8.0\n",
            "\u001b[?25l  Downloading https://files.pythonhosted.org/packages/3f/9b/54c950d3256e27f970a83cd0504efb183a24312702deed0179453316dbd0/onnx-1.9.0-cp37-cp37m-manylinux2010_x86_64.whl (12.2MB)\n",
            "\u001b[K     |████████████████████████████████| 12.2MB 221kB/s \n",
            "\u001b[?25hCollecting tensorflow-addons\n",
            "\u001b[?25l  Downloading https://files.pythonhosted.org/packages/66/4b/e893d194e626c24b3df2253066aa418f46a432fdb68250cde14bf9bb0700/tensorflow_addons-0.13.0-cp37-cp37m-manylinux2010_x86_64.whl (679kB)\n",
            "\u001b[K     |████████████████████████████████| 686kB 47.2MB/s \n",
            "\u001b[?25hRequirement already satisfied: typing-extensions>=3.6.2.1 in /usr/local/lib/python3.7/dist-packages (from onnx>=1.8.0->onnx_tf) (3.7.4.3)\n",
            "Requirement already satisfied: protobuf in /usr/local/lib/python3.7/dist-packages (from onnx>=1.8.0->onnx_tf) (3.12.4)\n",
            "Requirement already satisfied: six in /usr/local/lib/python3.7/dist-packages (from onnx>=1.8.0->onnx_tf) (1.15.0)\n",
            "Requirement already satisfied: numpy>=1.16.6 in /usr/local/lib/python3.7/dist-packages (from onnx>=1.8.0->onnx_tf) (1.19.5)\n",
            "Requirement already satisfied: typeguard>=2.7 in /usr/local/lib/python3.7/dist-packages (from tensorflow-addons->onnx_tf) (2.7.1)\n",
            "Requirement already satisfied: setuptools in /usr/local/lib/python3.7/dist-packages (from protobuf->onnx>=1.8.0->onnx_tf) (57.0.0)\n",
            "Installing collected packages: onnx, tensorflow-addons, onnx-tf\n",
            "Successfully installed onnx-1.9.0 onnx-tf-1.8.0 tensorflow-addons-0.13.0\n"
          ],
          "name": "stdout"
        }
      ]
    },
    {
      "cell_type": "code",
      "metadata": {
        "colab": {
          "base_uri": "https://localhost:8080/"
        },
        "id": "V-9TujOF5591",
        "outputId": "64587c0b-ee01-4589-813a-3487bb6674db"
      },
      "source": [
        "import onnx\n",
        "from onnx_tf.backend import prepare\n",
        "\n",
        "onnx_model = onnx.load(\"simple_model.onnx\")\n",
        "onnx.checker.check_model(onnx_model)\n",
        "\n",
        "tf_rep = prepare(onnx_model)\n",
        "tf_rep.export_graph(\"simple_model\")"
      ],
      "execution_count": 16,
      "outputs": [
        {
          "output_type": "stream",
          "text": [
            "WARNING:absl:Found untraced functions such as gen_tensor_dict while saving (showing 1 of 1). These functions will not be directly callable after loading.\n"
          ],
          "name": "stderr"
        },
        {
          "output_type": "stream",
          "text": [
            "INFO:tensorflow:Assets written to: simple_model/assets\n"
          ],
          "name": "stdout"
        },
        {
          "output_type": "stream",
          "text": [
            "INFO:tensorflow:Assets written to: simple_model/assets\n"
          ],
          "name": "stderr"
        }
      ]
    },
    {
      "cell_type": "markdown",
      "metadata": {
        "id": "CH-Em-0nMSvf"
      },
      "source": [
        "### Convert to TensorFlow Lite for Mobile Inference"
      ]
    },
    {
      "cell_type": "code",
      "metadata": {
        "id": "BDULO1NYMK0j"
      },
      "source": [
        "import tensorflow as tf\n",
        "\n",
        "converter = tf.lite.TFLiteConverter.from_saved_model(\"simple_model\")\n",
        "converter.optimizations = [tf.lite.Optimize.DEFAULT]\n",
        "\n",
        "tflite_model = converter.convert()"
      ],
      "execution_count": 17,
      "outputs": []
    },
    {
      "cell_type": "code",
      "metadata": {
        "id": "cLhZlKTXMDas"
      },
      "source": [
        "with open('simple_model.tflite', 'wb') as f:\n",
        "    f.write(tflite_model)"
      ],
      "execution_count": 18,
      "outputs": []
    },
    {
      "cell_type": "markdown",
      "metadata": {
        "id": "wM-XMtfQbuE4"
      },
      "source": [
        "## Rewrite Model Code to TF and Weight Conversion\n",
        "\n",
        "TensorFlow 코드를 직접 작성 후, 모델을 옮겨보겠습니다."
      ]
    },
    {
      "cell_type": "markdown",
      "metadata": {
        "id": "4gsHffD4cnr4"
      },
      "source": [
        "### Write PyTorch Code and Train"
      ]
    },
    {
      "cell_type": "code",
      "metadata": {
        "id": "s9u7qMC4cIx0"
      },
      "source": [
        "class TorchModel(nn.Module):\n",
        "  def __init__(self):\n",
        "    super().__init__()\n",
        "    self.fc = nn.Linear(1, 1)\n",
        "\n",
        "  def forward(self, x):\n",
        "    return self.fc(x)"
      ],
      "execution_count": 19,
      "outputs": []
    },
    {
      "cell_type": "code",
      "metadata": {
        "colab": {
          "base_uri": "https://localhost:8080/"
        },
        "id": "7PQYRc_yckaB",
        "outputId": "2aa245f2-1733-416c-c4d4-1c60afdba282"
      },
      "source": [
        "# 모델을 정의합니다.\n",
        "model_torch = TorchModel()\n",
        "\n",
        "# 어떤 알고리즘으로 Model Parameter를 Optimize시킬건지를 결정하게 됩니다.\n",
        "optimizer = torch.optim.SGD(model_torch.parameters(), lr = 0.001)\n",
        "\n",
        "# Loss Function으로 Model의 학습 방향을 결정하게 됩니다.\n",
        "criterion = nn.MSELoss()\n",
        "\n",
        "# 3x + 5를 학습해보겠습니다.\n",
        "X = torch.Tensor([[0], [1], [2]])\n",
        "Y = torch.Tensor([[5], [8], [11]])\n",
        "\n",
        "epochs = 10000\n",
        "losses = []\n",
        "for i in range(epochs):\n",
        "  # Optimizer를 초기화시킵니다.\n",
        "  # Pytorch에서 AutoGrad는 Gradient를 계속 저장하게 되는데, 이를 비워주어야 합니다.\n",
        "  optimizer.zero_grad()\n",
        "\n",
        "  # 모델을 가지고 값을 추론합니다.\n",
        "  y_inferenced = model_torch(X)\n",
        "\n",
        "  # Loss Function을 통해 실제 값과 얼마나 차이가 있는지 계산합니다.\n",
        "  loss = criterion(y_inferenced, Y)\n",
        "\n",
        "  # Back Propagation\n",
        "  loss.backward()\n",
        "\n",
        "  # Optimizer를 동작시켜 Model의 Parameter를 업데이트합니다.\n",
        "  optimizer.step()\n",
        "\n",
        "  if i%100 == 0:\n",
        "    print(\"Epoch {} : Loss {}\".format(i, loss.item()))\n",
        "  losses.append(loss.item())"
      ],
      "execution_count": 29,
      "outputs": [
        {
          "output_type": "stream",
          "text": [
            "Epoch 0 : Loss 47.04220962524414\n",
            "Epoch 100 : Loss 18.51696014404297\n",
            "Epoch 200 : Loss 7.5167083740234375\n",
            "Epoch 300 : Loss 3.250178337097168\n",
            "Epoch 400 : Loss 1.5735658407211304\n",
            "Epoch 500 : Loss 0.895414412021637\n",
            "Epoch 600 : Loss 0.6042520403862\n",
            "Epoch 700 : Loss 0.46492770314216614\n",
            "Epoch 800 : Loss 0.38680991530418396\n",
            "Epoch 900 : Loss 0.3347970247268677\n",
            "Epoch 1000 : Loss 0.29513418674468994\n",
            "Epoch 1100 : Loss 0.26229581236839294\n",
            "Epoch 1200 : Loss 0.23393933475017548\n",
            "Epoch 1300 : Loss 0.20896704494953156\n",
            "Epoch 1400 : Loss 0.18678320944309235\n",
            "Epoch 1500 : Loss 0.1670026332139969\n",
            "Epoch 1600 : Loss 0.14933519065380096\n",
            "Epoch 1700 : Loss 0.13354317843914032\n",
            "Epoch 1800 : Loss 0.11942420154809952\n",
            "Epoch 1900 : Loss 0.10679855197668076\n",
            "Epoch 2000 : Loss 0.09550865739583969\n",
            "Epoch 2100 : Loss 0.08541225641965866\n",
            "Epoch 2200 : Loss 0.07638320326805115\n",
            "Epoch 2300 : Loss 0.068308524787426\n",
            "Epoch 2400 : Loss 0.06108756363391876\n",
            "Epoch 2500 : Loss 0.054630011320114136\n",
            "Epoch 2600 : Loss 0.04885518550872803\n",
            "Epoch 2700 : Loss 0.04369054362177849\n",
            "Epoch 2800 : Loss 0.039071958512067795\n",
            "Epoch 2900 : Loss 0.03494160249829292\n",
            "Epoch 3000 : Loss 0.031247859820723534\n",
            "Epoch 3100 : Loss 0.02794443815946579\n",
            "Epoch 3200 : Loss 0.024990404024720192\n",
            "Epoch 3300 : Loss 0.02234862744808197\n",
            "Epoch 3400 : Loss 0.019986147060990334\n",
            "Epoch 3500 : Loss 0.017873285338282585\n",
            "Epoch 3600 : Loss 0.015983859077095985\n",
            "Epoch 3700 : Loss 0.014294206164777279\n",
            "Epoch 3800 : Loss 0.012783098965883255\n",
            "Epoch 3900 : Loss 0.011431877501308918\n",
            "Epoch 4000 : Loss 0.010223394259810448\n",
            "Epoch 4100 : Loss 0.009142703376710415\n",
            "Epoch 4200 : Loss 0.008176203817129135\n",
            "Epoch 4300 : Loss 0.007311919238418341\n",
            "Epoch 4400 : Loss 0.0065389289520680904\n",
            "Epoch 4500 : Loss 0.005847652908414602\n",
            "Epoch 4600 : Loss 0.005229557398706675\n",
            "Epoch 4700 : Loss 0.00467671500518918\n",
            "Epoch 4800 : Loss 0.00418225908651948\n",
            "Epoch 4900 : Loss 0.0037401423323899508\n",
            "Epoch 5000 : Loss 0.003344765631482005\n",
            "Epoch 5100 : Loss 0.0029911871533840895\n",
            "Epoch 5200 : Loss 0.0026750133838504553\n",
            "Epoch 5300 : Loss 0.0023922447580844164\n",
            "Epoch 5400 : Loss 0.0021393836941570044\n",
            "Epoch 5500 : Loss 0.0019131969893351197\n",
            "Epoch 5600 : Loss 0.0017109503969550133\n",
            "Epoch 5700 : Loss 0.0015300981467589736\n",
            "Epoch 5800 : Loss 0.0013683204306289554\n",
            "Epoch 5900 : Loss 0.0012237228220328689\n",
            "Epoch 6000 : Loss 0.0010943092638626695\n",
            "Epoch 6100 : Loss 0.0009786763694137335\n",
            "Epoch 6200 : Loss 0.0008752375724725425\n",
            "Epoch 6300 : Loss 0.0007827114313840866\n",
            "Epoch 6400 : Loss 0.0006999608012847602\n",
            "Epoch 6500 : Loss 0.0006260180962271988\n",
            "Epoch 6600 : Loss 0.0005598145653493702\n",
            "Epoch 6700 : Loss 0.0005006783758290112\n",
            "Epoch 6800 : Loss 0.000447759754024446\n",
            "Epoch 6900 : Loss 0.000400451390305534\n",
            "Epoch 7000 : Loss 0.0003581256605684757\n",
            "Epoch 7100 : Loss 0.0003202767693437636\n",
            "Epoch 7200 : Loss 0.00028639950323849916\n",
            "Epoch 7300 : Loss 0.00025614051264710724\n",
            "Epoch 7400 : Loss 0.00022908327810000628\n",
            "Epoch 7500 : Loss 0.00020488409791141748\n",
            "Epoch 7600 : Loss 0.0001832268899306655\n",
            "Epoch 7700 : Loss 0.0001638900866964832\n",
            "Epoch 7800 : Loss 0.00014655075210612267\n",
            "Epoch 7900 : Loss 0.0001310493389610201\n",
            "Epoch 8000 : Loss 0.0001171984476968646\n",
            "Epoch 8100 : Loss 0.00010481182107469067\n",
            "Epoch 8200 : Loss 9.374875662615523e-05\n",
            "Epoch 8300 : Loss 8.383466047234833e-05\n",
            "Epoch 8400 : Loss 7.497391197830439e-05\n",
            "Epoch 8500 : Loss 6.70832596370019e-05\n",
            "Epoch 8600 : Loss 6.001896326779388e-05\n",
            "Epoch 8700 : Loss 5.367573976400308e-05\n",
            "Epoch 8800 : Loss 4.7979770897654817e-05\n",
            "Epoch 8900 : Loss 4.294053360354155e-05\n",
            "Epoch 9000 : Loss 3.8416161260101944e-05\n",
            "Epoch 9100 : Loss 3.431974255363457e-05\n",
            "Epoch 9200 : Loss 3.074423875659704e-05\n",
            "Epoch 9300 : Loss 2.7467840482131578e-05\n",
            "Epoch 9400 : Loss 2.460804535076022e-05\n",
            "Epoch 9500 : Loss 2.1987156287650578e-05\n",
            "Epoch 9600 : Loss 1.9695862647495233e-05\n",
            "Epoch 9700 : Loss 1.758497819537297e-05\n",
            "Epoch 9800 : Loss 1.5779873137944378e-05\n",
            "Epoch 9900 : Loss 1.4104764886724297e-05\n"
          ],
          "name": "stdout"
        }
      ]
    },
    {
      "cell_type": "code",
      "metadata": {
        "colab": {
          "base_uri": "https://localhost:8080/"
        },
        "id": "nlzggBWdc-Qg",
        "outputId": "e5e37ba5-8b4c-4243-9224-fc84c7d3f2a4"
      },
      "source": [
        "model_torch(torch.Tensor([3]))\n",
        "# 3 * 3 + 5"
      ],
      "execution_count": 30,
      "outputs": [
        {
          "output_type": "execute_result",
          "data": {
            "text/plain": [
              "tensor([14.0063], grad_fn=<AddBackward0>)"
            ]
          },
          "metadata": {
            "tags": []
          },
          "execution_count": 30
        }
      ]
    },
    {
      "cell_type": "markdown",
      "metadata": {
        "id": "TV8BoWm8dNvP"
      },
      "source": [
        "### Rewrite TensorFlow Code\n",
        "\n",
        "PyTorch로 구현한 코드는 다음과 같습니다.\n",
        "\n",
        "```python\n",
        "class TorchModel(nn.Module):\n",
        "  def __init__(self):\n",
        "    super().__init__()\n",
        "    self.fc = nn.Linear(1, 1)\n",
        "\n",
        "  def forward(self, x):\n",
        "    return self.fc(x)\n",
        "```"
      ]
    },
    {
      "cell_type": "code",
      "metadata": {
        "id": "KxUSXL97dAb7"
      },
      "source": [
        "import tensorflow as tf\n",
        "from tensorflow.keras.layers import Dense\n",
        "from tensorflow.keras.models import Model"
      ],
      "execution_count": 26,
      "outputs": []
    },
    {
      "cell_type": "code",
      "metadata": {
        "colab": {
          "base_uri": "https://localhost:8080/"
        },
        "id": "xWiSRvWQdmlQ",
        "outputId": "ac11fd55-2d90-4665-ee65-acd0fd1bfec0"
      },
      "source": [
        "class Model_tf(Model):\n",
        "  def __init__(self):\n",
        "    super().__init__()\n",
        "    self.fc = Dense(1)\n",
        "\n",
        "  def call(self, x):\n",
        "    return self.fc(x)\n",
        "\n",
        "model_tf = Model_tf()\n",
        "model_tf(tf.zeros([1,1]))"
      ],
      "execution_count": 49,
      "outputs": [
        {
          "output_type": "execute_result",
          "data": {
            "text/plain": [
              "<tf.Tensor: shape=(1, 1), dtype=float32, numpy=array([[0.]], dtype=float32)>"
            ]
          },
          "metadata": {
            "tags": []
          },
          "execution_count": 49
        }
      ]
    },
    {
      "cell_type": "markdown",
      "metadata": {
        "id": "AlqPeFexeIUf"
      },
      "source": [
        "### Weight Transfer"
      ]
    },
    {
      "cell_type": "markdown",
      "metadata": {
        "id": "2HBiWL-hhBbe"
      },
      "source": [
        "PyTorch Weight and Bias"
      ]
    },
    {
      "cell_type": "code",
      "metadata": {
        "colab": {
          "base_uri": "https://localhost:8080/"
        },
        "id": "D9tpgWvBd84R",
        "outputId": "957bdfff-df6d-40cc-9238-5158e0c59545"
      },
      "source": [
        "model_torch.fc.weight"
      ],
      "execution_count": 50,
      "outputs": [
        {
          "output_type": "execute_result",
          "data": {
            "text/plain": [
              "Parameter containing:\n",
              "tensor([[3.0039]], requires_grad=True)"
            ]
          },
          "metadata": {
            "tags": []
          },
          "execution_count": 50
        }
      ]
    },
    {
      "cell_type": "code",
      "metadata": {
        "colab": {
          "base_uri": "https://localhost:8080/"
        },
        "id": "C5b7qWK4ekn5",
        "outputId": "eb1524f7-1d8d-4767-fa8e-1b8bb5ce013a"
      },
      "source": [
        "model_torch.fc.bias"
      ],
      "execution_count": 51,
      "outputs": [
        {
          "output_type": "execute_result",
          "data": {
            "text/plain": [
              "Parameter containing:\n",
              "tensor([4.9945], requires_grad=True)"
            ]
          },
          "metadata": {
            "tags": []
          },
          "execution_count": 51
        }
      ]
    },
    {
      "cell_type": "markdown",
      "metadata": {
        "id": "G9R_juIghD53"
      },
      "source": [
        "TensorFlow Kernel(Weight) and Bias"
      ]
    },
    {
      "cell_type": "code",
      "metadata": {
        "colab": {
          "base_uri": "https://localhost:8080/"
        },
        "id": "5OqJ0yiYfh2h",
        "outputId": "a6016d44-c419-4763-e42f-d8c89bdc318e"
      },
      "source": [
        "model_tf.fc.kernel"
      ],
      "execution_count": 52,
      "outputs": [
        {
          "output_type": "execute_result",
          "data": {
            "text/plain": [
              "<tf.Variable 'model_tf_2/dense_2/kernel:0' shape=(1, 1) dtype=float32, numpy=array([[-0.3243804]], dtype=float32)>"
            ]
          },
          "metadata": {
            "tags": []
          },
          "execution_count": 52
        }
      ]
    },
    {
      "cell_type": "code",
      "metadata": {
        "colab": {
          "base_uri": "https://localhost:8080/"
        },
        "id": "wHfanOyTgDGl",
        "outputId": "6fcba8c5-63e7-4395-e343-30e57c5571b9"
      },
      "source": [
        "model_tf.fc.bias"
      ],
      "execution_count": 53,
      "outputs": [
        {
          "output_type": "execute_result",
          "data": {
            "text/plain": [
              "<tf.Variable 'model_tf_2/dense_2/bias:0' shape=(1,) dtype=float32, numpy=array([0.], dtype=float32)>"
            ]
          },
          "metadata": {
            "tags": []
          },
          "execution_count": 53
        }
      ]
    },
    {
      "cell_type": "markdown",
      "metadata": {
        "id": "hOnQrLWFhG90"
      },
      "source": [
        "Weight Transfer"
      ]
    },
    {
      "cell_type": "code",
      "metadata": {
        "colab": {
          "base_uri": "https://localhost:8080/"
        },
        "id": "YFTjVxIHgE8N",
        "outputId": "5972d53c-29d1-46e1-f55d-6614b203ffce"
      },
      "source": [
        "model_tf.fc.kernel.assign(model_torch.fc.weight.detach().numpy().T)"
      ],
      "execution_count": 54,
      "outputs": [
        {
          "output_type": "execute_result",
          "data": {
            "text/plain": [
              "<tf.Variable 'UnreadVariable' shape=(1, 1) dtype=float32, numpy=array([[3.0039303]], dtype=float32)>"
            ]
          },
          "metadata": {
            "tags": []
          },
          "execution_count": 54
        }
      ]
    },
    {
      "cell_type": "code",
      "metadata": {
        "colab": {
          "base_uri": "https://localhost:8080/"
        },
        "id": "HCUWECfwg7eb",
        "outputId": "ef962457-7599-4267-a201-0115f0a45d20"
      },
      "source": [
        "model_tf.fc.bias.assign(model_torch.fc.bias.detach().numpy())"
      ],
      "execution_count": 55,
      "outputs": [
        {
          "output_type": "execute_result",
          "data": {
            "text/plain": [
              "<tf.Variable 'UnreadVariable' shape=(1,) dtype=float32, numpy=array([4.9945493], dtype=float32)>"
            ]
          },
          "metadata": {
            "tags": []
          },
          "execution_count": 55
        }
      ]
    },
    {
      "cell_type": "markdown",
      "metadata": {
        "id": "F1m70ORxhLe6"
      },
      "source": [
        "Inference"
      ]
    },
    {
      "cell_type": "code",
      "metadata": {
        "colab": {
          "base_uri": "https://localhost:8080/"
        },
        "id": "nNm7zGN4g_-B",
        "outputId": "d33777ef-d1ef-4f8b-e8c2-4c70fb61aca8"
      },
      "source": [
        "model_torch(torch.Tensor([[3]]))"
      ],
      "execution_count": 60,
      "outputs": [
        {
          "output_type": "execute_result",
          "data": {
            "text/plain": [
              "tensor([[14.0063]], grad_fn=<AddmmBackward>)"
            ]
          },
          "metadata": {
            "tags": []
          },
          "execution_count": 60
        }
      ]
    },
    {
      "cell_type": "code",
      "metadata": {
        "colab": {
          "base_uri": "https://localhost:8080/"
        },
        "id": "duCxVs-OhSGv",
        "outputId": "9a918714-9101-414d-8346-9dd920a3c1a6"
      },
      "source": [
        "model_tf(tf.constant([[3]]))"
      ],
      "execution_count": 61,
      "outputs": [
        {
          "output_type": "execute_result",
          "data": {
            "text/plain": [
              "<tf.Tensor: shape=(1, 1), dtype=float32, numpy=array([[14.00634]], dtype=float32)>"
            ]
          },
          "metadata": {
            "tags": []
          },
          "execution_count": 61
        }
      ]
    }
  ]
}